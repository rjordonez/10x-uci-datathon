{
 "cells": [
  {
   "cell_type": "code",
   "execution_count": 8,
   "id": "72e870fb",
   "metadata": {},
   "outputs": [],
   "source": [
    "# imports\n",
    "import pandas as pd\n",
    "import numpy as np\n",
    "import h5py\n",
    "import io\n",
    "import matplotlib.pyplot as plt\n",
    "from PIL import Image\n",
    "from tqdm import tqdm\n",
    "from sklearn.model_selection import train_test_split\n",
    "import tensorflow as tf\n",
    "from tensorflow.keras.models import Sequential\n",
    "from tensorflow.keras.layers import Flatten, Dense, Dropout, Input"
   ]
  },
  {
   "cell_type": "code",
   "execution_count": 2,
   "id": "3b24a58b",
   "metadata": {},
   "outputs": [],
   "source": [
    "# loading Metadata\n",
    "metadata_path = 'train-metadata.csv'\n",
    "df = pd.read_csv(metadata_path, low_memory=False)\n",
    "df = df[['isic_id', 'target']].dropna()  # Keep only needed columns"
   ]
  },
  {
   "cell_type": "code",
   "execution_count": 3,
   "id": "d0ae6ce5",
   "metadata": {},
   "outputs": [],
   "source": [
    "# sample 10000 images for training\n",
    "train_df, val_df = train_test_split(df, test_size=0.2, stratify=df['target'], random_state=42)\n",
    "train_df = train_df.sample(n=10000, random_state=42).reset_index(drop=True)\n",
    "val_df = val_df.sample(n=2000, random_state=42).reset_index(drop=True)"
   ]
  },
  {
   "cell_type": "code",
   "execution_count": 4,
   "id": "f6306ffc",
   "metadata": {},
   "outputs": [],
   "source": [
    "# loading images\n",
    "def load_images_from_hdf5(hdf5_path, df, target_size=(224, 224)):\n",
    "    images = []\n",
    "    labels = []\n",
    "    with h5py.File(hdf5_path, 'r') as f:\n",
    "        for _, row in tqdm(df.iterrows(), total=len(df)):\n",
    "            isic_id = row['isic_id']\n",
    "            target = row['target']\n",
    "            img_bytes = f[isic_id][()]\n",
    "            image = Image.open(io.BytesIO(img_bytes)).convert('RGB')\n",
    "            image = image.resize(target_size)\n",
    "            image = np.array(image) / 255.0\n",
    "            images.append(image)\n",
    "            labels.append(target)\n",
    "    return np.array(images), np.array(labels)"
   ]
  },
  {
   "cell_type": "code",
   "execution_count": 5,
   "id": "6a0bbe28",
   "metadata": {},
   "outputs": [
    {
     "name": "stderr",
     "output_type": "stream",
     "text": [
      "100%|████████████████████████████████████| 10000/10000 [00:25<00:00, 384.87it/s]\n",
      "100%|██████████████████████████████████████| 2000/2000 [00:04<00:00, 443.79it/s]\n"
     ]
    }
   ],
   "source": [
    "# training/test set split\n",
    "train_hdf5_path = 'train-image.hdf5'\n",
    "X_train, y_train = load_images_from_hdf5(train_hdf5_path, train_df)\n",
    "X_val, y_val = load_images_from_hdf5(train_hdf5_path, val_df)"
   ]
  },
  {
   "cell_type": "code",
   "execution_count": 9,
   "id": "eb9ae417",
   "metadata": {},
   "outputs": [],
   "source": [
    "# CNN model architecture\n",
    "model = Sequential([\n",
    "    Input(shape=(224, 224, 3)),\n",
    "    Flatten(),\n",
    "    Dense(256, activation='relu'),\n",
    "    Dropout(0.3),\n",
    "    Dense(64, activation='relu'),\n",
    "    Dropout(0.3),\n",
    "    Dense(1, activation='sigmoid')\n",
    "])"
   ]
  },
  {
   "cell_type": "code",
   "execution_count": 10,
   "id": "f52836be",
   "metadata": {},
   "outputs": [],
   "source": [
    "# model compiling\n",
    "model.compile(\n",
    "    optimizer='adam',\n",
    "    loss='binary_crossentropy',\n",
    "    metrics=['accuracy', tf.keras.metrics.AUC(name='auc')]\n",
    ")"
   ]
  },
  {
   "cell_type": "code",
   "execution_count": 11,
   "id": "1efe398f",
   "metadata": {},
   "outputs": [
    {
     "name": "stdout",
     "output_type": "stream",
     "text": [
      "Epoch 1/10\n",
      "\u001b[1m313/313\u001b[0m \u001b[32m━━━━━━━━━━━━━━━━━━━━\u001b[0m\u001b[37m\u001b[0m \u001b[1m86s\u001b[0m 271ms/step - accuracy: 0.9857 - auc: 0.4344 - loss: 0.7980 - val_accuracy: 0.9990 - val_auc: 0.5000 - val_loss: 0.7053\n",
      "Epoch 2/10\n",
      "\u001b[1m313/313\u001b[0m \u001b[32m━━━━━━━━━━━━━━━━━━━━\u001b[0m\u001b[37m\u001b[0m \u001b[1m69s\u001b[0m 217ms/step - accuracy: 0.9983 - auc: 0.4757 - loss: 0.4854 - val_accuracy: 0.9990 - val_auc: 0.5000 - val_loss: 0.5757\n",
      "Epoch 3/10\n",
      "\u001b[1m313/313\u001b[0m \u001b[32m━━━━━━━━━━━━━━━━━━━━\u001b[0m\u001b[37m\u001b[0m \u001b[1m60s\u001b[0m 190ms/step - accuracy: 0.9993 - auc: 0.3342 - loss: 0.1766 - val_accuracy: 0.9990 - val_auc: 0.5000 - val_loss: 0.0825\n",
      "Epoch 4/10\n",
      "\u001b[1m313/313\u001b[0m \u001b[32m━━━━━━━━━━━━━━━━━━━━\u001b[0m\u001b[37m\u001b[0m \u001b[1m59s\u001b[0m 186ms/step - accuracy: 0.9978 - auc: 0.4762 - loss: 0.0726 - val_accuracy: 0.9990 - val_auc: 0.5000 - val_loss: 0.3998\n",
      "Epoch 5/10\n",
      "\u001b[1m313/313\u001b[0m \u001b[32m━━━━━━━━━━━━━━━━━━━━\u001b[0m\u001b[37m\u001b[0m \u001b[1m62s\u001b[0m 197ms/step - accuracy: 0.9987 - auc: 0.4611 - loss: 0.1938 - val_accuracy: 0.9990 - val_auc: 0.5000 - val_loss: 0.0121\n",
      "Epoch 6/10\n",
      "\u001b[1m313/313\u001b[0m \u001b[32m━━━━━━━━━━━━━━━━━━━━\u001b[0m\u001b[37m\u001b[0m \u001b[1m62s\u001b[0m 198ms/step - accuracy: 0.9981 - auc: 0.4624 - loss: 0.0484 - val_accuracy: 0.9990 - val_auc: 0.5000 - val_loss: 0.0109\n",
      "Epoch 7/10\n",
      "\u001b[1m313/313\u001b[0m \u001b[32m━━━━━━━━━━━━━━━━━━━━\u001b[0m\u001b[37m\u001b[0m \u001b[1m70s\u001b[0m 222ms/step - accuracy: 0.9965 - auc: 0.4645 - loss: 0.0497 - val_accuracy: 0.9990 - val_auc: 0.5000 - val_loss: 0.0188\n",
      "Epoch 8/10\n",
      "\u001b[1m313/313\u001b[0m \u001b[32m━━━━━━━━━━━━━━━━━━━━\u001b[0m\u001b[37m\u001b[0m \u001b[1m67s\u001b[0m 211ms/step - accuracy: 0.9987 - auc: 0.4764 - loss: 0.0523 - val_accuracy: 0.9990 - val_auc: 0.5000 - val_loss: 0.0109\n",
      "Epoch 9/10\n",
      "\u001b[1m313/313\u001b[0m \u001b[32m━━━━━━━━━━━━━━━━━━━━\u001b[0m\u001b[37m\u001b[0m \u001b[1m64s\u001b[0m 203ms/step - accuracy: 0.9996 - auc: 0.3258 - loss: 0.0098 - val_accuracy: 0.9990 - val_auc: 0.5000 - val_loss: 0.0155\n",
      "Epoch 10/10\n",
      "\u001b[1m313/313\u001b[0m \u001b[32m━━━━━━━━━━━━━━━━━━━━\u001b[0m\u001b[37m\u001b[0m \u001b[1m62s\u001b[0m 198ms/step - accuracy: 0.9990 - auc: 0.4455 - loss: 0.0432 - val_accuracy: 0.9990 - val_auc: 0.5000 - val_loss: 0.0201\n"
     ]
    }
   ],
   "source": [
    "# fitting our model\n",
    "history = model.fit(\n",
    "    X_train, y_train,\n",
    "    validation_data=(X_val, y_val),\n",
    "    epochs=10,\n",
    "    batch_size=32\n",
    ")"
   ]
  },
  {
   "cell_type": "code",
   "execution_count": 13,
   "id": "e79ceab8",
   "metadata": {},
   "outputs": [
    {
     "name": "stdout",
     "output_type": "stream",
     "text": [
      "\u001b[1m63/63\u001b[0m \u001b[32m━━━━━━━━━━━━━━━━━━━━\u001b[0m\u001b[37m\u001b[0m \u001b[1m1s\u001b[0m 15ms/step - accuracy: 0.9993 - auc: 0.2578 - loss: 0.0133\n",
      "Validation Accuracy: 0.9990, AUC: 0.5000\n"
     ]
    }
   ],
   "source": [
    "# finding validation accuracy\n",
    "val_loss, val_acc, val_auc = model.evaluate(X_val, y_val)\n",
    "print(f\"Validation Accuracy: {val_acc:.4f}, AUC: {val_auc:.4f}\")"
   ]
  },
  {
   "cell_type": "code",
   "execution_count": null,
   "id": "ebff8da4",
   "metadata": {},
   "outputs": [
    {
     "name": "stdout",
     "output_type": "stream",
     "text": [
      "\u001b[1m1/1\u001b[0m \u001b[32m━━━━━━━━━━━━━━━━━━━━\u001b[0m\u001b[37m\u001b[0m \u001b[1m0s\u001b[0m 54ms/step\n",
      "\u001b[1m1/1\u001b[0m \u001b[32m━━━━━━━━━━━━━━━━━━━━\u001b[0m\u001b[37m\u001b[0m \u001b[1m0s\u001b[0m 12ms/step\n",
      "\u001b[1m1/1\u001b[0m \u001b[32m━━━━━━━━━━━━━━━━━━━━\u001b[0m\u001b[37m\u001b[0m \u001b[1m0s\u001b[0m 12ms/step\n",
      "\u001b[1m1/1\u001b[0m \u001b[32m━━━━━━━━━━━━━━━━━━━━\u001b[0m\u001b[37m\u001b[0m \u001b[1m0s\u001b[0m 12ms/step\n",
      "\u001b[1m1/1\u001b[0m \u001b[32m━━━━━━━━━━━━━━━━━━━━\u001b[0m\u001b[37m\u001b[0m \u001b[1m0s\u001b[0m 12ms/step\n"
     ]
    }
   ],
   "source": [
    "sample_ids = val_df['isic_id'].sample(5, random_state=1).tolist()\n",
    "with h5py.File(train_hdf5_path, 'r') as f:\n",
    "    fig, axs = plt.subplots(1, 5, figsize=(20, 4))\n",
    "    for i, isic_id in enumerate(sample_ids):\n",
    "        img_bytes = f[isic_id][()]\n",
    "        image = Image.open(io.BytesIO(img_bytes)).convert('RGB').resize((224, 224))\n",
    "        img_arr = np.array(image) / 255.0\n",
    "        pred = model.predict(np.expand_dims(img_arr, axis=0))[0][0]\n",
    "        axs[i].imshow(image)\n",
    "        axs[i].axis('off')\n",
    "        axs[i].set_title(f\"{isic_id}\\nPred: {pred:.2f}\")\n",
    "    plt.tight_layout()\n",
    "    plt.show()"
   ]
  },
  {
   "cell_type": "code",
   "execution_count": null,
   "id": "d152a532",
   "metadata": {},
   "outputs": [],
   "source": []
  }
 ],
 "metadata": {
  "kernelspec": {
   "display_name": "Python 3 (ipykernel)",
   "language": "python",
   "name": "python3"
  },
  "language_info": {
   "codemirror_mode": {
    "name": "ipython",
    "version": 3
   },
   "file_extension": ".py",
   "mimetype": "text/x-python",
   "name": "python",
   "nbconvert_exporter": "python",
   "pygments_lexer": "ipython3",
   "version": "3.11.3"
  }
 },
 "nbformat": 4,
 "nbformat_minor": 5
}
